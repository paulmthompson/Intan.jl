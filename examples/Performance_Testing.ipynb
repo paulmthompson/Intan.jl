{
 "cells": [
  {
   "cell_type": "code",
   "execution_count": 1,
   "metadata": {},
   "outputs": [
    {
     "name": "stderr",
     "output_type": "stream",
     "text": [
      "┌ Info: Precompiling Intan [160d5eed-cb0b-5d5e-9732-2f740c539f3e]\n",
      "└ @ Base loading.jl:1342\n",
      "\u001b[91m\u001b[1mERROR: \u001b[22m\u001b[39mLoadError: ArgumentError: Package SpikeSorting [acc641c0-d14d-5ed3-8a01-2b4adfca2b15] is required but does not seem to be installed:\n",
      " - Run `Pkg.instantiate()` to install all recorded dependencies.\n",
      "\n",
      "Stacktrace:\n",
      " [1] \u001b[0m\u001b[1m_require\u001b[22m\u001b[0m\u001b[1m(\u001b[22m\u001b[90mpkg\u001b[39m::\u001b[0mBase.PkgId\u001b[0m\u001b[1m)\u001b[22m\n",
      "\u001b[90m   @ \u001b[39m\u001b[90mBase\u001b[39m \u001b[90m.\\\u001b[39m\u001b[90;4mloading.jl:1012\u001b[0m\n",
      " [2] \u001b[0m\u001b[1mrequire\u001b[22m\u001b[0m\u001b[1m(\u001b[22m\u001b[90muuidkey\u001b[39m::\u001b[0mBase.PkgId\u001b[0m\u001b[1m)\u001b[22m\n",
      "\u001b[90m   @ \u001b[39m\u001b[90mBase\u001b[39m \u001b[90m.\\\u001b[39m\u001b[90;4mloading.jl:936\u001b[0m\n",
      " [3] \u001b[0m\u001b[1mrequire\u001b[22m\u001b[0m\u001b[1m(\u001b[22m\u001b[90minto\u001b[39m::\u001b[0mModule, \u001b[90mmod\u001b[39m::\u001b[0mSymbol\u001b[0m\u001b[1m)\u001b[22m\n",
      "\u001b[90m   @ \u001b[39m\u001b[90mBase\u001b[39m \u001b[90m.\\\u001b[39m\u001b[90;4mloading.jl:923\u001b[0m\n",
      " [4] \u001b[0m\u001b[1minclude\u001b[22m\n",
      "\u001b[90m   @ \u001b[39m\u001b[90m.\\\u001b[39m\u001b[90;4mBase.jl:386\u001b[0m\u001b[90m [inlined]\u001b[39m\n",
      " [5] \u001b[0m\u001b[1minclude_package_for_output\u001b[22m\u001b[0m\u001b[1m(\u001b[22m\u001b[90mpkg\u001b[39m::\u001b[0mBase.PkgId, \u001b[90minput\u001b[39m::\u001b[0mString, \u001b[90mdepot_path\u001b[39m::\u001b[0mVector\u001b[90m{String}\u001b[39m, \u001b[90mdl_load_path\u001b[39m::\u001b[0mVector\u001b[90m{String}\u001b[39m, \u001b[90mload_path\u001b[39m::\u001b[0mVector\u001b[90m{String}\u001b[39m, \u001b[90mconcrete_deps\u001b[39m::\u001b[0mVector\u001b[90m{Pair{Base.PkgId, UInt64}}\u001b[39m, \u001b[90msource\u001b[39m::\u001b[0mNothing\u001b[0m\u001b[1m)\u001b[22m\n",
      "\u001b[90m   @ \u001b[39m\u001b[90mBase\u001b[39m \u001b[90m.\\\u001b[39m\u001b[90;4mloading.jl:1235\u001b[0m\n",
      " [6] top-level scope\n",
      "\u001b[90m   @ \u001b[39m\u001b[90;4mnone:1\u001b[0m\n",
      " [7] \u001b[0m\u001b[1meval\u001b[22m\n",
      "\u001b[90m   @ \u001b[39m\u001b[90m.\\\u001b[39m\u001b[90;4mboot.jl:360\u001b[0m\u001b[90m [inlined]\u001b[39m\n",
      " [8] \u001b[0m\u001b[1meval\u001b[22m\u001b[0m\u001b[1m(\u001b[22m\u001b[90mx\u001b[39m::\u001b[0mExpr\u001b[0m\u001b[1m)\u001b[22m\n",
      "\u001b[90m   @ \u001b[39m\u001b[90mBase.MainInclude\u001b[39m \u001b[90m.\\\u001b[39m\u001b[90;4mclient.jl:446\u001b[0m\n",
      " [9] top-level scope\n",
      "\u001b[90m   @ \u001b[39m\u001b[90;4mnone:1\u001b[0m\n",
      "in expression starting at C:\\Users\\wanglab\\Documents\\Intan.jl\\src\\Intan.jl:3\n"
     ]
    },
    {
     "ename": "LoadError",
     "evalue": "Failed to precompile Intan [160d5eed-cb0b-5d5e-9732-2f740c539f3e] to C:\\Users\\wanglab\\.julia\\compiled\\v1.6\\Intan\\jl_11CD.tmp.",
     "output_type": "error",
     "traceback": [
      "Failed to precompile Intan [160d5eed-cb0b-5d5e-9732-2f740c539f3e] to C:\\Users\\wanglab\\.julia\\compiled\\v1.6\\Intan\\jl_11CD.tmp.",
      "",
      "Stacktrace:",
      " [1] error(s::String)",
      "   @ Base .\\error.jl:33",
      " [2] compilecache(pkg::Base.PkgId, path::String, internal_stderr::IJulia.IJuliaStdio{Base.PipeEndpoint}, internal_stdout::IJulia.IJuliaStdio{Base.PipeEndpoint}, ignore_loaded_modules::Bool)",
      "   @ Base .\\loading.jl:1385",
      " [3] compilecache(pkg::Base.PkgId, path::String)",
      "   @ Base .\\loading.jl:1329",
      " [4] _require(pkg::Base.PkgId)",
      "   @ Base .\\loading.jl:1043",
      " [5] require(uuidkey::Base.PkgId)",
      "   @ Base .\\loading.jl:936",
      " [6] require(into::Module, mod::Symbol)",
      "   @ Base .\\loading.jl:923",
      " [7] eval",
      "   @ .\\boot.jl:360 [inlined]",
      " [8] include_string(mapexpr::typeof(REPL.softscope), mod::Module, code::String, filename::String)",
      "   @ Base .\\loading.jl:1116"
     ]
    }
   ],
   "source": [
    "using Intan, PyPlot"
   ]
  },
  {
   "cell_type": "code",
   "execution_count": null,
   "metadata": {
    "collapsed": true
   },
   "outputs": [],
   "source": [
    "#First create amplifier array:\n",
    "myamp=RHD2164(\"PortA1\")\n",
    "\n",
    "#Task\n",
    "mt=Task_TestTask()\n",
    "\n",
    "#Save\n",
    "mys=SaveNone()\n",
    "\n",
    "#Initialize evaluation board setup\n",
    "myrhd=makeRHD(myamp,\"single\",mt,sav=mys);"
   ]
  },
  {
   "cell_type": "code",
   "execution_count": null,
   "metadata": {
    "collapsed": true
   },
   "outputs": [],
   "source": [
    "handles = makegui(myrhd);"
   ]
  },
  {
   "cell_type": "code",
   "execution_count": null,
   "metadata": {
    "collapsed": true
   },
   "outputs": [],
   "source": [
    "function get_times(rhd,streams,samples,sr::Int64)\n",
    "    \n",
    "    myt=zeros(Float64,length(streams),length(samples))\n",
    "    mytest=zeros(Float64,5)\n",
    "    for s=1:length(streams)\n",
    "        for j=1:length(samples)\n",
    "            thebytes=(4+2(streams[s]*36)+8+2)*2*samples[j]\n",
    "            for k=1:length(mytest)\n",
    "                mytest[k]=@elapsed Intan.ReadFromPipeOut(rhd,Intan.PipeOutData,convert(Clong,thebytes),rhd.usbBuffer)   \n",
    "            end\n",
    "            myt[s,j]=mean(mytest)/(samples[j]/sr)\n",
    "        end\n",
    "    end\n",
    "    \n",
    "    myt.*100\n",
    "end"
   ]
  },
  {
   "cell_type": "code",
   "execution_count": null,
   "metadata": {
    "collapsed": true
   },
   "outputs": [],
   "source": [
    "mysamples=collect(50:50:600)\n",
    "sample_rate=20000\n",
    "mystreams=collect(1:16)\n",
    "t=get_times(myrhd,mystreams,mysamples,sample_rate);"
   ]
  },
  {
   "cell_type": "code",
   "execution_count": null,
   "metadata": {
    "collapsed": true
   },
   "outputs": [],
   "source": [
    "for i=1:size(t,1)\n",
    "    plot(mysamples./sample_rate.*1000,t[i,:]',color=\"blue\",alpha=i/20)\n",
    "end\n",
    "\n",
    "xlabel(\"Latency (ms)\")\n",
    "ylabel(\"% of processing window\")"
   ]
  },
  {
   "cell_type": "code",
   "execution_count": null,
   "metadata": {
    "collapsed": true
   },
   "outputs": [],
   "source": [
    "for i=1:size(t,2)\n",
    "    plot(collect(32:32:512),t[:,i],color=\"blue\", alpha=i/20)\n",
    "end\n",
    "xlabel(\"Number of channels\")\n",
    "ylabel(\"% of Processing Window\")"
   ]
  }
 ],
 "metadata": {
  "kernelspec": {
   "display_name": "Julia 1.6.2",
   "language": "julia",
   "name": "julia-1.6"
  },
  "language_info": {
   "file_extension": ".jl",
   "mimetype": "application/julia",
   "name": "julia",
   "version": "1.6.2"
  }
 },
 "nbformat": 4,
 "nbformat_minor": 1
}
